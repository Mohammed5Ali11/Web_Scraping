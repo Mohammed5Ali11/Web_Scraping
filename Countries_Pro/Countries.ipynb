{
 "cells": [
  {
   "cell_type": "code",
   "execution_count": 41,
   "id": "dcf20f82-b1e0-4fe1-b62a-988976287281",
   "metadata": {},
   "outputs": [],
   "source": [
    "import requests\n",
    "from bs4 import BeautifulSoup\n",
    "import csv\n",
    "csvfile = open(\"Countries.csv\",\"w\",encoding=\"utf-8\",newline='')\n",
    "writer = csv.writer(csvfile)\n",
    "writer.writerow([\"Country\",\"Capital\",\"Population\",\"Area in KM2\"])\n",
    "url = \"https://www.scrapethissite.com/pages/simple/\"\n",
    "website = requests.get(url).text\n",
    "NewWebsite = BeautifulSoup(website,\"html\")\n",
    "CountryBlocks = NewWebsite.find_all(\"div\",class_ = \"col-md-4 country\")\n",
    "for Block in CountryBlocks:\n",
    "    CountryName = Block.find(\"h3\",class_ = \"country-name\").text.strip()\n",
    "    Capital = Block.find(\"span\",class_ = \"country-capital\").text\n",
    "    Population = Block.find(\"span\",class_ = \"country-population\").text\n",
    "    Area = Block.find(\"span\",class_ = \"country-area\").text\n",
    "    writer.writerow([CountryName,Capital,Population,Area])\n",
    "csvfile.close()\n"
   ]
  },
  {
   "cell_type": "code",
   "execution_count": null,
   "id": "6b1465de-4a06-4cb2-af54-5829cee47d29",
   "metadata": {},
   "outputs": [],
   "source": []
  }
 ],
 "metadata": {
  "kernelspec": {
   "display_name": "Python 3 (ipykernel)",
   "language": "python",
   "name": "python3"
  },
  "language_info": {
   "codemirror_mode": {
    "name": "ipython",
    "version": 3
   },
   "file_extension": ".py",
   "mimetype": "text/x-python",
   "name": "python",
   "nbconvert_exporter": "python",
   "pygments_lexer": "ipython3",
   "version": "3.12.4"
  }
 },
 "nbformat": 4,
 "nbformat_minor": 5
}
