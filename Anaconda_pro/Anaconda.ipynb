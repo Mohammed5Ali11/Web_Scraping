{
 "cells": [
  {
   "cell_type": "code",
   "execution_count": 2,
   "id": "9a60fbd3-e99e-4116-a18e-318350a16771",
   "metadata": {},
   "outputs": [],
   "source": [
    "import requests\n",
    "from bs4 import BeautifulSoup\n",
    "import csv\n",
    "CsvFile = open(\"Anacondaa.csv\",\"w\",encoding=\"utf-8\",newline='')\n",
    "Writer = csv.writer(CsvFile)\n",
    "Writer.writerow([\"Backage Name\",\"Access\",\"Summary\",\"Updated\",\"Install_Command\"])\n",
    "for i in range(73):\n",
    "    url = f\"https://anaconda.org/anaconda/repo?page={i+1}&sort=_name&sort_order=asc\"\n",
    "    website = requests.get(url).text\n",
    "    NewWebSite = BeautifulSoup(website,\"html\")\n",
    "    BackageBody = NewWebSite.find(\"tbody\")\n",
    "    BackageBlocks = BackageBody.find_all(\"tr\")\n",
    "    for Block in BackageBlocks:\n",
    "        BackageInfo = Block.find_all(\"td\")\n",
    "        BackageInfoList = []\n",
    "        for eachBack in BackageInfo:\n",
    "            BackageInfoList.append(eachBack.text.strip())\n",
    "        BackageName = BackageInfoList[0]\n",
    "        BackageAccess = BackageInfoList[1]\n",
    "        BackageSummary = BackageInfoList[2]\n",
    "        BackageUpdate = BackageInfoList[3]\n",
    "\n",
    "\n",
    "        \n",
    "        url2 = f\"https://anaconda.org/anaconda/{BackageName}\"\n",
    "        WebSite2 = requests.get(url2).text\n",
    "        NewWebSite2 = BeautifulSoup(WebSite2,\"html\")\n",
    "        Install = NewWebSite2.find(\"code\").text\n",
    "\n",
    "        Writer.writerow([BackageName,BackageAccess,BackageSummary,BackageUpdate,Install])\n",
    "CsvFile.close()"
   ]
  },
  {
   "cell_type": "code",
   "execution_count": null,
   "id": "05d4ce8e-cf39-41c7-9e72-952363b29928",
   "metadata": {},
   "outputs": [],
   "source": []
  }
 ],
 "metadata": {
  "kernelspec": {
   "display_name": "Python 3 (ipykernel)",
   "language": "python",
   "name": "python3"
  },
  "language_info": {
   "codemirror_mode": {
    "name": "ipython",
    "version": 3
   },
   "file_extension": ".py",
   "mimetype": "text/x-python",
   "name": "python",
   "nbconvert_exporter": "python",
   "pygments_lexer": "ipython3",
   "version": "3.12.4"
  }
 },
 "nbformat": 4,
 "nbformat_minor": 5
}
