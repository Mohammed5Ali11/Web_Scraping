{
 "cells": [
  {
   "cell_type": "code",
   "execution_count": 38,
   "id": "286399fd-2106-43b5-8646-9cc0d4f6efa5",
   "metadata": {},
   "outputs": [],
   "source": [
    "import requests\n",
    "from bs4 import BeautifulSoup\n",
    "import csv\n",
    "csvfile = open(\"FIFA_Player_Cards.csv\",\"w\",encoding=\"utf-8\",newline = \"\")\n",
    "writer = csv.writer(csvfile)\n",
    "writer.writerow([\"Player Name\",\"Player Postion\",\"PAC\",\"SHO\",\"PAS\",\"DRI\",\"DEF\",\"PHY\",\"Player Rate\",\"Price\"])\n",
    "for i in range(642):\n",
    "    url = f\"https://www.futwiz.com/en/fc25/players?page={i}\"\n",
    "    website = requests.get(url).text\n",
    "    NewWebsite = BeautifulSoup(website,\"html\")\n",
    "    PlayerCards = NewWebsite.find_all(\"a\",class_ = \"latest-player-card\")\n",
    "    for card in PlayerCards:\n",
    "        PlayerName = card.find(\"div\", class_ = \"card-25-pack-name\").text\n",
    "        PlayerPostion = card.find(\"div\", class_ = \"card-25-pack-position\").text\n",
    "        PlayerRate = card.find(\"div\", class_ = \"card-25-pack-rating\").text\n",
    "        PlayerPAC = card.find(\"div\", class_ = \"att1-num card-25-pack-attnum1\").text\n",
    "        PlayerSHO = card.find(\"div\", class_ = \"att2-num card-25-pack-attnum2\").text\n",
    "        PlayerPAS = card.find(\"div\", class_ = \"att3-num card-25-pack-attnum3\").text\n",
    "        PlayerDRI = card.find(\"div\", class_ = \"att4-num card-25-pack-attnum4\").text\n",
    "        PlayerDEF = card.find(\"div\", class_ = \"att5-num card-25-pack-attnum5\").text\n",
    "        PlayerPHY = card.find(\"div\", class_ = \"att6-num card-25-pack-attnum6\").text\n",
    "        PlayerPrice = card.find(\"span\", class_ = \"price console-price\")\n",
    "        PlayerPrice = PlayerPrice.text if PlayerPrice else \"No price\"\n",
    "        writer.writerow([PlayerName,PlayerPostion,PlayerPAC,PlayerSHO,PlayerPAS,PlayerDRI,PlayerDEF,PlayerPHY,PlayerRate,PlayerPrice])\n",
    "csvfile.close()"
   ]
  },
  {
   "cell_type": "code",
   "execution_count": null,
   "id": "0dc5570c-9c8a-4b37-b9a7-69d37b18ef4b",
   "metadata": {},
   "outputs": [],
   "source": []
  }
 ],
 "metadata": {
  "kernelspec": {
   "display_name": "Python 3 (ipykernel)",
   "language": "python",
   "name": "python3"
  },
  "language_info": {
   "codemirror_mode": {
    "name": "ipython",
    "version": 3
   },
   "file_extension": ".py",
   "mimetype": "text/x-python",
   "name": "python",
   "nbconvert_exporter": "python",
   "pygments_lexer": "ipython3",
   "version": "3.12.4"
  }
 },
 "nbformat": 4,
 "nbformat_minor": 5
}
