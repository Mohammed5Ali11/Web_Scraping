{
 "cells": [
  {
   "cell_type": "code",
   "execution_count": 32,
   "id": "61f7aa4d-a430-4ce1-a577-3e805eecfb90",
   "metadata": {},
   "outputs": [],
   "source": [
    "import requests\n",
    "from bs4 import BeautifulSoup\n",
    "import csv\n",
    "CSVFILE = open(\"FIELGOAL.csv\",\"w\",encoding=\"utf-8\",newline='')\n",
    "writer = csv.writer(CSVFILE)\n",
    "writer.writerow([\"LeaugeName\",\"Team_A_Name\",\"Team_B_Name\",\"Match_Result\",\"StadiumName\",\"Match_Data\"])\n",
    "url = \"https://www.filgoal.com/matches/?date=2024-09-28\"\n",
    "response = requests.get(url)\n",
    "website = response.text\n",
    "soup = BeautifulSoup(website,\"html.parser\")\n",
    "counter = 0\n",
    "LeaugeBlocks = soup.find_all(\"div\",class_ = \"mc-block\")\n",
    "for Block in LeaugeBlocks:\n",
    "    if counter == 0:\n",
    "        counter += 1\n",
    "        continue\n",
    "    LeaugeName = Block.find(\"span\").text\n",
    "    MatchBlocks = Block.find_all(\"div\",class_ = \"cin_cntnr\")\n",
    "    for M_Block in MatchBlocks:\n",
    "        Team_A_Data = M_Block.find(\"div\",class_ = \"f\")\n",
    "        Team_A_Name = Team_A_Data.find(\"strong\").text.strip()\n",
    "        Team_A_Score = Team_A_Data.find(\"b\").text.strip()\n",
    "        \n",
    "        Team_B_Data = M_Block.find(\"div\",class_ = \"s\")\n",
    "        Team_B_Name = Team_B_Data.find(\"strong\").text.strip()\n",
    "        Team_B_Score = Team_B_Data.find(\"b\").text.strip()\n",
    "        Match_Result = Team_A_Score + \"   :   \" + Team_B_Score \n",
    "        \n",
    "        Match_Aux = M_Block.find(\"div\",class_ = \"match-aux\")\n",
    "        if len(Match_Aux.find_all(\"span\")) == 3:\n",
    "            StadiumName = Match_Aux.find_all(\"span\")[0].text.strip()\n",
    "            Match_Data = Match_Aux.find_all(\"span\")[2].text.strip()\n",
    "        elif len(Match_Aux.find_all(\"span\")) == 2:\n",
    "            StadiumName = \"لم يتم ايجاده\"\n",
    "            Match_Data = Match_Aux.find_all(\"span\")[1].text.strip()\n",
    "        else:\n",
    "            Match_Data = Match_Aux.find_all(\"span\")[0].text.strip()\n",
    "        writer.writerow([LeaugeName,Team_A_Name,Team_B_Name,Match_Result,StadiumName,Match_Data])\n",
    "CSVFILE.close()"
   ]
  },
  {
   "cell_type": "code",
   "execution_count": null,
   "id": "c33bb097-7900-4b63-8c3e-96cfe5aa871f",
   "metadata": {},
   "outputs": [],
   "source": []
  }
 ],
 "metadata": {
  "kernelspec": {
   "display_name": "Python 3 (ipykernel)",
   "language": "python",
   "name": "python3"
  },
  "language_info": {
   "codemirror_mode": {
    "name": "ipython",
    "version": 3
   },
   "file_extension": ".py",
   "mimetype": "text/x-python",
   "name": "python",
   "nbconvert_exporter": "python",
   "pygments_lexer": "ipython3",
   "version": "3.12.4"
  }
 },
 "nbformat": 4,
 "nbformat_minor": 5
}
