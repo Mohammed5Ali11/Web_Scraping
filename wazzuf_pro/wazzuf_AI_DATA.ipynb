{
 "cells": [
  {
   "cell_type": "code",
   "execution_count": 14,
   "id": "0cb6403d-e1fc-4786-a700-2f2b83d0145a",
   "metadata": {},
   "outputs": [
    {
     "name": "stdout",
     "output_type": "stream",
     "text": [
      "AI Technical Team Lead Confidential - Full Time Cairo, Egypt \n",
      "Artificial Intelligence( AI )Business Development Confidential - Full Time Riyadh, Saudi Arabia \n",
      "Product Manager - EPM/AI/ML Azdan Business Analytics - Full Time Cairo, Egypt \n",
      "Senior AI Engineer Lumin - Full Time Sheikh Zayed, Giza, Egypt \n",
      "AI Engineer The Osiris Labs  - Full Time Mokattam, Cairo, Egypt \n",
      "Python Artisan Developer coto - Full Time Cairo, Egypt \n",
      "AI Engineer Arab AI - Full Time Ras Albar, Damietta, Egypt \n",
      "AI Engineer UAE General Civil Aviation Authority (GCAA) - Full Time Dubai, United Arab Emirates \n",
      "Site Reliability Engineer Citylogix ME - Full Time New Cairo, Cairo, Egypt \n",
      "B2B Telesales Account Manager Confidential - Full Time Maadi, Cairo, Egypt \n",
      "Senior JavaFX Developer Wakeb Data - Full Time Mohandessin, Giza, Egypt \n",
      "Senior Cloud Sales Executive Smart Vision Technologies - Full Time Cairo, Egypt \n",
      "Senior IT Projects Manager - Developer Background Confidential - Full Time Nasr City, Cairo, Egypt \n",
      "Data Scientists Team Lead Smart Vision Technologies - Full Time Sheraton, Cairo, Egypt \n",
      "Laravel Developer 34ML - Full Time Heliopolis, Cairo, Egypt \n",
      "Tech Lead Tech Mahindra - Full Time Doha, Qatar \n",
      "Software Developer Confidential - Full Time Vienna, Austria \n",
      "Data Annotation Team Lead Eg Insurtech - Full Time Cairo, Egypt \n",
      "Quality Manager Sprints.ai - Full Time Maadi, Cairo, Egypt \n",
      "DAZU Pay - Python Developer (FinTech) Bright Creations - Full Time Smart Village, Giza, Egypt \n",
      "Full-Stack Python Team Leader (Django/React) RDI - Full Time Riyadh, Saudi Arabia \n",
      "Senior Full-Stack Python (Django/React) in KSA RDI - Full Time Dokki, Giza, Egypt \n",
      "UX/UI Team Lead egabi solutions - Full Time Sheraton, Cairo, Egypt \n",
      "Remote Flutter Developer AigentsX - Internship Cairo, Egypt \n",
      "Business Development Specialist Sprints.ai - Full Time Maadi, Cairo, Egypt \n",
      "Business Development Manager Sprints.ai - Full Time Maadi, Cairo, Egypt \n",
      "Bioinformatician Lifera - Full Time Riyadh, Saudi Arabia \n",
      "java & Database Instructor MICA - Full Time Haram, Giza, Egypt \n",
      "Java Developer Spirawn - Full Time Washington, D.C., United States \n",
      "Network Engineer - Saudi Arabia Infosys - Full Time Tabuk, Saudi Arabia \n",
      "Bytedance, Internet Engineering Graduate, Dubai 2025 ByteDance - Full Time Dubai, United Arab Emirates \n",
      "[Remote] Frontend intern Freightdog - Internship Amsterdam, Netherlands \n",
      "Solutions Architect UAE Bell Integration - Driving Digital Transformation - Full Time Dubai, United Arab Emirates \n",
      "Program Manager Presight - Full Time Dubai, United Arab Emirates \n",
      "Senior Partnership Manager Velents - Full Time Riyadh, Saudi Arabia \n",
      "Application Manager Universities of Canada in Egypt - Full Time New Capital, Cairo, Egypt \n",
      "Data Scientist Matchable - Full Time Riyadh, Saudi Arabia \n",
      "Delivery Lead Flow Talent - Full Time Riyadh, Saudi Arabia \n",
      "Business Development Manager Jaya Talent - Full Time Dubai, United Arab Emirates \n",
      "Java Instructor MICA - Full Time Hadayek Alahram, Giza, Egypt \n",
      "Solution Consultant, Doha Denodo - Full Time Riyadh, Saudi Arabia \n",
      "Head, Digital Technology QatarEnergy - Full Time Doha, Qatar \n",
      "Chief Technology Officer ASTUDIO - Full Time Dubai, United Arab Emirates \n",
      "Sales Director Flow Talent - Full Time Dubai, United Arab Emirates \n",
      "Support Specialist Global Payments Inc. - Full Time Dubai, United Arab Emirates \n",
      "Security Solutions Architect NTT DATA, Inc. - Full Time Riyadh, Saudi Arabia \n",
      "Customer Service Lead Mamo - Full Time Dubai, United Arab Emirates \n",
      "Head Application Flow Talent - Full Time Dubai, United Arab Emirates \n",
      "Saudi Director Expertflow - livechat, video, callcenter SW - Full Time Riyadh, Saudi Arabia \n"
     ]
    }
   ],
   "source": [
    "for i in range(4):\n",
    "    url = f\"https://wuzzuf.net/search/jobs/?q=ai%20engineer&start={i}\"\n",
    "    website = requests.get(url).text\n",
    "    NewWebsite = BeautifulSoup(website,\"html\")\n",
    "    jops = NewWebsite.find_all(\"div\", class_ = \"css-pkv5jc\")\n",
    "    for jop in jops:\n",
    "        jop_title = jop.find(\"a\", class_ = \"css-o171kl\").text\n",
    "        company_name = jop.find(\"a\",class_ = \"css-17s97q8\").text\n",
    "        jop_location = jop.find(\"span\", class_ = \"css-5wys0k\").text\n",
    "        jop_type = jop.find(\"span\", class_ = \"css-1ve4b75 eoyjyou0\").text\n",
    "        print(jop_title,company_name,jop_type,jop_location)"
   ]
  },
  {
   "cell_type": "code",
   "execution_count": 30,
   "id": "2a0bb64b-6885-420b-89d3-17b14ab02d44",
   "metadata": {},
   "outputs": [],
   "source": [
    "import csv\n",
    "import requests\n",
    "from bs4 import BeautifulSoup\n",
    "csvfile = open(\"WuzzafData.csv\",\"w\",encoding=\"utf-8\")\n",
    "writer = csv.writer(csvfile) \n",
    "writer.writerow([\"Job Title\", \"Company Name\", \"Job Type\", \"Location\"])\n",
    "for i in range(4):\n",
    "    url = f\"https://wuzzuf.net/search/jobs/?q=ai%20engineer&start={i}\"\n",
    "    website = requests.get(url).text\n",
    "    NewWebsite = BeautifulSoup(website,\"html\")\n",
    "    jops = NewWebsite.find_all(\"div\", class_ = \"css-pkv5jc\")\n",
    "    for jop in jops:\n",
    "        jop_title = jop.find(\"a\", class_ = \"css-o171kl\").text\n",
    "        company_name = jop.find(\"a\",class_ = \"css-17s97q8\").text\n",
    "        jop_location = jop.find(\"span\", class_ = \"css-5wys0k\").text\n",
    "        jop_type = jop.find(\"span\", class_ = \"css-1ve4b75 eoyjyou0\").text\n",
    "        writer.writerow([jop_title,company_name,jop_type,jop_location])\n",
    "csvfile.close()"
   ]
  },
  {
   "cell_type": "code",
   "execution_count": null,
   "id": "a03ed77d-8cd4-4e90-b1bf-c4baf1adbd87",
   "metadata": {},
   "outputs": [],
   "source": []
  }
 ],
 "metadata": {
  "kernelspec": {
   "display_name": "Python 3 (ipykernel)",
   "language": "python",
   "name": "python3"
  },
  "language_info": {
   "codemirror_mode": {
    "name": "ipython",
    "version": 3
   },
   "file_extension": ".py",
   "mimetype": "text/x-python",
   "name": "python",
   "nbconvert_exporter": "python",
   "pygments_lexer": "ipython3",
   "version": "3.12.4"
  }
 },
 "nbformat": 4,
 "nbformat_minor": 5
}
