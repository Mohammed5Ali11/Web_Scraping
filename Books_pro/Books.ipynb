{
 "cells": [
  {
   "cell_type": "code",
   "execution_count": 52,
   "id": "813c6111-c53e-433b-9899-74f82b6613d1",
   "metadata": {},
   "outputs": [],
   "source": [
    "import requests\n",
    "from bs4 import BeautifulSoup\n",
    "import csv\n",
    "CsvFile = open(\"BooK.csv\",\"w\",encoding=\"utf-8\",newline='')\n",
    "Writer = csv.writer(CsvFile)\n",
    "Writer.writerow([\"Book\",\"Rate\",\"price\"])\n",
    "for i in range(51):\n",
    "    url = f\"https://books.toscrape.com/catalogue/page-{i+1}.html\"\n",
    "    response = requests.get(url)\n",
    "    response.encoding = \"utf-8\"\n",
    "    Website = response.text\n",
    "    NewWebSite = BeautifulSoup(Website,\"html.parser\")\n",
    "    BookBlocks = NewWebSite.find_all(\"article\",class_ = \"product_pod\")\n",
    "    for Block in BookBlocks:\n",
    "        BookName = Block.find(\"h3\").a['title']\n",
    "        BookPrice = Block.find(\"p\",class_=\"price_color\").text.strip()\n",
    "        BookRating = Block.find(\"p\",class_ = \"star-rating\")\n",
    "        Writer.writerow([BookName,BookRating['class'][-1],BookPrice])\n",
    "CsvFile.close()"
   ]
  },
  {
   "cell_type": "code",
   "execution_count": null,
   "id": "b2858b1f-c2dc-4769-ac31-4fc2e9801baf",
   "metadata": {},
   "outputs": [],
   "source": []
  }
 ],
 "metadata": {
  "kernelspec": {
   "display_name": "Python 3 (ipykernel)",
   "language": "python",
   "name": "python3"
  },
  "language_info": {
   "codemirror_mode": {
    "name": "ipython",
    "version": 3
   },
   "file_extension": ".py",
   "mimetype": "text/x-python",
   "name": "python",
   "nbconvert_exporter": "python",
   "pygments_lexer": "ipython3",
   "version": "3.12.4"
  }
 },
 "nbformat": 4,
 "nbformat_minor": 5
}
