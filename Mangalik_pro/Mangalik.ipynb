{
 "cells": [
  {
   "cell_type": "code",
   "execution_count": 2,
   "id": "73919619-1778-440b-bc79-18847ed00313",
   "metadata": {},
   "outputs": [],
   "source": [
    "import requests\n",
    "from bs4 import BeautifulSoup\n",
    "import csv\n",
    "csvfile = open(\"Mangalik.csv\",\"w\",encoding = \"utf-8\",newline='')\n",
    "writer = csv.writer(csvfile)\n",
    "writer.writerow([\"MangaName\",\"last_chapter\",\"MangaRate\"])\n",
    "for i in range(100):\n",
    "    url = f\"https://lekmanga.net/manga/page/{i+1}/\"\n",
    "    website = requests.get(url).text\n",
    "    NewWebSite = BeautifulSoup(website,\"html\")\n",
    "    BlocksManga = NewWebSite.find_all(\"div\",class_=\"col-12 col-md-6 badge-pos-1\")\n",
    "    for block in BlocksManga:\n",
    "        MangaName = block.find(\"h3\",class_ = \"h5\").a.text\n",
    "        last_chapter = block.find(\"a\",class_ = \"btn-link\")\n",
    "        last_chapter = last_chapter.text if last_chapter else \"No chapters\"\n",
    "        MangaRate = block.find(\"span\",class_ = \"score font-meta total_votes\")\n",
    "        MangaRate = MangaRate.text if MangaRate else \"No Rated\"\n",
    "        writer.writerow([MangaName,last_chapter,MangaRate])\n",
    "csvfile.close()\n",
    "   "
   ]
  },
  {
   "cell_type": "code",
   "execution_count": null,
   "id": "eb9bbb11-3653-466a-ae4c-184d3150e8e3",
   "metadata": {},
   "outputs": [],
   "source": []
  }
 ],
 "metadata": {
  "kernelspec": {
   "display_name": "Python 3 (ipykernel)",
   "language": "python",
   "name": "python3"
  },
  "language_info": {
   "codemirror_mode": {
    "name": "ipython",
    "version": 3
   },
   "file_extension": ".py",
   "mimetype": "text/x-python",
   "name": "python",
   "nbconvert_exporter": "python",
   "pygments_lexer": "ipython3",
   "version": "3.12.4"
  }
 },
 "nbformat": 4,
 "nbformat_minor": 5
}
